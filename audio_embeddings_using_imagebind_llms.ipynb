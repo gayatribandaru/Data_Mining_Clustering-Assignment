{
  "nbformat": 4,
  "nbformat_minor": 0,
  "metadata": {
    "colab": {
      "provenance": []
    },
    "kernelspec": {
      "name": "python3",
      "display_name": "Python 3"
    },
    "language_info": {
      "name": "python"
    }
  },
  "cells": [
    {
      "cell_type": "code",
      "execution_count": 1,
      "metadata": {
        "colab": {
          "base_uri": "https://localhost:8080/"
        },
        "id": "rTm9lBMGsbdA",
        "outputId": "0682de08-b809-4a4b-9c30-b23a01ed5ff5"
      },
      "outputs": [
        {
          "output_type": "stream",
          "name": "stdout",
          "text": [
            "Collecting kneed\n",
            "  Downloading kneed-0.8.5-py3-none-any.whl (10 kB)\n",
            "Requirement already satisfied: numpy>=1.14.2 in /usr/local/lib/python3.10/dist-packages (from kneed) (1.23.5)\n",
            "Requirement already satisfied: scipy>=1.0.0 in /usr/local/lib/python3.10/dist-packages (from kneed) (1.11.4)\n",
            "Installing collected packages: kneed\n",
            "Successfully installed kneed-0.8.5\n"
          ]
        }
      ],
      "source": [
        "pip install kneed"
      ]
    },
    {
      "cell_type": "code",
      "source": [
        "!pip install spotipy"
      ],
      "metadata": {
        "colab": {
          "base_uri": "https://localhost:8080/"
        },
        "id": "Sax-O7ovspNv",
        "outputId": "03ef5963-fcf7-4d9c-a0f7-394babd1641c"
      },
      "execution_count": null,
      "outputs": [
        {
          "output_type": "stream",
          "name": "stdout",
          "text": [
            "Collecting spotipy\n",
            "  Downloading spotipy-2.23.0-py3-none-any.whl (29 kB)\n",
            "Collecting redis>=3.5.3 (from spotipy)\n",
            "  Downloading redis-5.0.1-py3-none-any.whl (250 kB)\n",
            "\u001b[2K     \u001b[90m━━━━━━━━━━━━━━━━━━━━━━━━━━━━━━━━━━━━━━━━\u001b[0m \u001b[32m250.3/250.3 kB\u001b[0m \u001b[31m4.9 MB/s\u001b[0m eta \u001b[36m0:00:00\u001b[0m\n",
            "\u001b[?25hRequirement already satisfied: requests>=2.25.0 in /usr/local/lib/python3.10/dist-packages (from spotipy) (2.31.0)\n",
            "Requirement already satisfied: six>=1.15.0 in /usr/local/lib/python3.10/dist-packages (from spotipy) (1.16.0)\n",
            "Requirement already satisfied: urllib3>=1.26.0 in /usr/local/lib/python3.10/dist-packages (from spotipy) (2.0.7)\n",
            "Requirement already satisfied: async-timeout>=4.0.2 in /usr/local/lib/python3.10/dist-packages (from redis>=3.5.3->spotipy) (4.0.3)\n",
            "Requirement already satisfied: charset-normalizer<4,>=2 in /usr/local/lib/python3.10/dist-packages (from requests>=2.25.0->spotipy) (3.3.2)\n",
            "Requirement already satisfied: idna<4,>=2.5 in /usr/local/lib/python3.10/dist-packages (from requests>=2.25.0->spotipy) (3.4)\n",
            "Requirement already satisfied: certifi>=2017.4.17 in /usr/local/lib/python3.10/dist-packages (from requests>=2.25.0->spotipy) (2023.7.22)\n",
            "Installing collected packages: redis, spotipy\n",
            "Successfully installed redis-5.0.1 spotipy-2.23.0\n"
          ]
        }
      ]
    },
    {
      "cell_type": "code",
      "source": [
        "import sys\n",
        "import spotipy\n",
        "import yaml\n",
        "import spotipy.util as util\n",
        "from pprint import pprint\n",
        "import json\n",
        "import argparse\n",
        "import matplotlib.pyplot as plt\n",
        "import numpy as np\n",
        "import pandas as pd\n",
        "from sklearn.preprocessing import StandardScaler\n",
        "from sklearn.preprocessing import MinMaxScaler\n",
        "from sklearn.decomposition import PCA\n",
        "from sklearn.cluster import KMeans\n",
        "import seaborn as sns\n",
        "from yellowbrick.cluster import KElbowVisualizer\n",
        "from kneed import KneeLocator\n",
        "import plotly.graph_objects as go\n",
        "from plotly.subplots import make_subplots\n",
        "sns.set()"
      ],
      "metadata": {
        "id": "6rHfGmS9scz2"
      },
      "execution_count": null,
      "outputs": []
    },
    {
      "cell_type": "code",
      "source": [
        "import sklearn.metrics as metrics\n",
        "from sklearn.cluster import KMeans\n",
        "from sklearn.metrics import silhouette_score\n",
        "from yellowbrick.cluster.elbow import kelbow_visualizer\n",
        "from yellowbrick.cluster import KElbowVisualizer\n",
        "from yellowbrick.cluster import SilhouetteVisualizer\n",
        "from yellowbrick.cluster import silhouette_visualizer\n"
      ],
      "metadata": {
        "id": "PoyAuh1WswOi"
      },
      "execution_count": null,
      "outputs": []
    },
    {
      "cell_type": "code",
      "source": [
        "!pip install spotipy\n",
        "import spotipy\n",
        "from spotipy.oauth2 import SpotifyClientCredentials\n"
      ],
      "metadata": {
        "colab": {
          "base_uri": "https://localhost:8080/"
        },
        "id": "-8vel5WqtgXB",
        "outputId": "b58304b0-f0b8-4aec-be0a-45645385f0e1"
      },
      "execution_count": null,
      "outputs": [
        {
          "output_type": "stream",
          "name": "stdout",
          "text": [
            "Requirement already satisfied: spotipy in /usr/local/lib/python3.10/dist-packages (2.23.0)\n",
            "Requirement already satisfied: redis>=3.5.3 in /usr/local/lib/python3.10/dist-packages (from spotipy) (5.0.1)\n",
            "Requirement already satisfied: requests>=2.25.0 in /usr/local/lib/python3.10/dist-packages (from spotipy) (2.31.0)\n",
            "Requirement already satisfied: six>=1.15.0 in /usr/local/lib/python3.10/dist-packages (from spotipy) (1.16.0)\n",
            "Requirement already satisfied: urllib3>=1.26.0 in /usr/local/lib/python3.10/dist-packages (from spotipy) (2.0.7)\n",
            "Requirement already satisfied: async-timeout>=4.0.2 in /usr/local/lib/python3.10/dist-packages (from redis>=3.5.3->spotipy) (4.0.3)\n",
            "Requirement already satisfied: charset-normalizer<4,>=2 in /usr/local/lib/python3.10/dist-packages (from requests>=2.25.0->spotipy) (3.3.2)\n",
            "Requirement already satisfied: idna<4,>=2.5 in /usr/local/lib/python3.10/dist-packages (from requests>=2.25.0->spotipy) (3.4)\n",
            "Requirement already satisfied: certifi>=2017.4.17 in /usr/local/lib/python3.10/dist-packages (from requests>=2.25.0->spotipy) (2023.7.22)\n"
          ]
        }
      ]
    },
    {
      "cell_type": "code",
      "source": [
        "client_id = \"68373d16a1b74732be11557fa7d7845d\"\n",
        "client_secret = \"298a443f22bc450fab46672fcd3bc746\"\n",
        "\n",
        "client_credentials_manager = SpotifyClientCredentials(client_id=client_id, client_secret=client_secret)\n",
        "sp = spotipy.Spotify(client_credentials_manager=client_credentials_manager)"
      ],
      "metadata": {
        "id": "zD_YSnNYtiKJ"
      },
      "execution_count": null,
      "outputs": []
    },
    {
      "cell_type": "code",
      "source": [
        "name = [\"Pitbull\",\"Enrique Iglesias\",\"Akon\",\"Ed Sheeran\",\"Justin Bieber\",\"Lady Gaga\",\"Taylor Swift\",\"Katy Perry\",\"Rihana\",\"Christina Aguilera\"]\n",
        "result = sp.search(name)\n",
        "result['tracks']['items'][1]['artists']"
      ],
      "metadata": {
        "colab": {
          "base_uri": "https://localhost:8080/"
        },
        "id": "hwNYbd3rs0k6",
        "outputId": "793f8a80-955d-472d-e295-22b61b9b7a97"
      },
      "execution_count": null,
      "outputs": [
        {
          "output_type": "execute_result",
          "data": {
            "text/plain": [
              "[{'external_urls': {'spotify': 'https://open.spotify.com/artist/0TnOYISbd1XYRBk9myaseg'},\n",
              "  'href': 'https://api.spotify.com/v1/artists/0TnOYISbd1XYRBk9myaseg',\n",
              "  'id': '0TnOYISbd1XYRBk9myaseg',\n",
              "  'name': 'Pitbull',\n",
              "  'type': 'artist',\n",
              "  'uri': 'spotify:artist:0TnOYISbd1XYRBk9myaseg'}]"
            ]
          },
          "metadata": {},
          "execution_count": 10
        }
      ]
    },
    {
      "cell_type": "code",
      "source": [
        "artists_uris = result['tracks']['items'][0]['artists'][0]['uri']\n",
        "#Pull all of the artist's albums\n",
        "artist_albums = sp.artist_albums(artists_uris, album_type='album')\n",
        "#Store artist's albums' names' and uris in separate lists\n",
        "artist_album_names = []\n",
        "artist_album_uris = []\n",
        "for i in range(len(artist_albums['items'])):\n",
        "    artist_album_names.append(artist_albums['items'][i]['name'])\n",
        "    artist_album_uris.append(artist_albums['items'][i]['uri'])\n",
        "artist_album_names\n",
        "artist_album_uris"
      ],
      "metadata": {
        "colab": {
          "base_uri": "https://localhost:8080/"
        },
        "id": "QdjAR7mrtu4C",
        "outputId": "b782c27e-5cf6-42e1-87a7-aac48257e992"
      },
      "execution_count": null,
      "outputs": [
        {
          "output_type": "execute_result",
          "data": {
            "text/plain": [
              "['spotify:album:1l86t4bTNT2j1X0ZBCIv6R',\n",
              " 'spotify:album:6nCJAxRvXmPkPiZo8Vh5ZG',\n",
              " 'spotify:album:6ZSNnOY2ESMNoVQ5DdvHrj',\n",
              " 'spotify:album:4jtKPpBQ5eneMwEI94f5Y0',\n",
              " 'spotify:album:5PZWGWwRwA0PJCET9BwBAm',\n",
              " 'spotify:album:4EUf4YyNjuXypWY6W5wEDm',\n",
              " 'spotify:album:2USiuZqEAyfOcKmcujg4hs',\n",
              " 'spotify:album:2F7tejLHzTqFq2XLol9ZGy',\n",
              " 'spotify:album:4rG0MhkU6UojACJxkMHIXB',\n",
              " 'spotify:album:3K3wPSsFq3jt0tgZXerYma',\n",
              " 'spotify:album:1q23hvi1qvoADt2fh7FO7P',\n",
              " 'spotify:album:0kv3Rm7PODqJBQaVJiezuB',\n",
              " 'spotify:album:00zN65JStpVnpJn9ckMsQI',\n",
              " 'spotify:album:6ODOJvYpaQ3p0O6Agrlt4B',\n",
              " 'spotify:album:7m9AYxqeFPagkaqlg6WE0J',\n",
              " 'spotify:album:69bXbGpsjbLtygqiiaXIqf',\n",
              " 'spotify:album:7rOcmdW8dWxlScy6AUgjI8',\n",
              " 'spotify:album:0gayfOCt1DJX4j8MOhv7we',\n",
              " 'spotify:album:76N6imyjQ9h5p2NzakHT32']"
            ]
          },
          "metadata": {},
          "execution_count": 11
        }
      ]
    },
    {
      "cell_type": "code",
      "source": [
        "def album_songs(uri):\n",
        "    album = uri\n",
        "    spotify_albums[album] = {}\n",
        "    #Create keys-values of empty lists inside nested dictionary for album\n",
        "    spotify_albums[album]['album'] = []\n",
        "    spotify_albums[album]['track_number'] = []\n",
        "    spotify_albums[album]['id'] = []\n",
        "    spotify_albums[album]['name'] = []\n",
        "    spotify_albums[album]['artist'] = []\n",
        "    spotify_albums[album]['uri'] = []\n",
        "    #pull data on album tracks\n",
        "    tracks = sp.album_tracks(album)\n",
        "    for n in range(len(tracks['items'])):\n",
        "        spotify_albums[album]['album'].append(artist_album_names[album_count])\n",
        "        spotify_albums[album]['track_number'].append(tracks['items'][n]['track_number'])\n",
        "        spotify_albums[album]['id'].append(tracks['items'][n]['id'])\n",
        "        spotify_albums[album]['name'].append(tracks['items'][n]['name'])\n",
        "        spotify_albums[album]['artist'].append(tracks['items'][n]['artists'])\n",
        "        spotify_albums[album]['uri'].append(tracks['items'][n]['uri'])"
      ],
      "metadata": {
        "id": "QBQijYRPtu6l"
      },
      "execution_count": null,
      "outputs": []
    },
    {
      "cell_type": "code",
      "source": [
        "spotify_albums = {}\n",
        "album_count = 0\n",
        "for i in artist_album_uris: #each album\n",
        "    album_songs(i)\n",
        "    print(str(artist_album_names[album_count]) + \" album songs has been added to spotify_albums dictionary\")\n",
        "    album_count+=1 #Updates album count once all tracks have been added"
      ],
      "metadata": {
        "colab": {
          "base_uri": "https://localhost:8080/"
        },
        "id": "BLkUQJyVt0z6",
        "outputId": "747c9bab-119d-42cc-90b3-e6f3e056345e"
      },
      "execution_count": null,
      "outputs": [
        {
          "output_type": "stream",
          "name": "stdout",
          "text": [
            "Trackhouse album songs has been added to spotify_albums dictionary\n",
            "Libertad 548 album songs has been added to spotify_albums dictionary\n",
            "Gotti (Original Motion Picture Soundtrack) album songs has been added to spotify_albums dictionary\n",
            "Climate Change album songs has been added to spotify_albums dictionary\n",
            "Dale album songs has been added to spotify_albums dictionary\n",
            "Globalization album songs has been added to spotify_albums dictionary\n",
            "Global Warming (Deluxe Version) album songs has been added to spotify_albums dictionary\n",
            "Global Warming: Meltdown (Deluxe Version) album songs has been added to spotify_albums dictionary\n",
            "Planet Pit (Deluxe Version) album songs has been added to spotify_albums dictionary\n",
            "Planet Pit album songs has been added to spotify_albums dictionary\n",
            "Armando (Deluxe) album songs has been added to spotify_albums dictionary\n",
            "I Am Armando - Armando Reloaded album songs has been added to spotify_albums dictionary\n",
            "Pitbull Starring In Rebelution album songs has been added to spotify_albums dictionary\n",
            "The Boatlift - Clean album songs has been added to spotify_albums dictionary\n",
            "The Boatlift album songs has been added to spotify_albums dictionary\n",
            "El Mariel - Clean album songs has been added to spotify_albums dictionary\n",
            "El Mariel album songs has been added to spotify_albums dictionary\n",
            "Money Is Still A Major Issue album songs has been added to spotify_albums dictionary\n",
            "M.I.A.M.I. album songs has been added to spotify_albums dictionary\n"
          ]
        }
      ]
    },
    {
      "cell_type": "code",
      "source": [
        "def audio_features(album):\n",
        "    #Add new key-values to store audio features\n",
        "    spotify_albums[album]['acousticness'] = []\n",
        "    spotify_albums[album]['danceability'] = []\n",
        "    spotify_albums[album]['energy'] = []\n",
        "    spotify_albums[album]['instrumentalness'] = []\n",
        "    spotify_albums[album]['liveness'] = []\n",
        "    spotify_albums[album]['loudness'] = []\n",
        "    spotify_albums[album]['speechiness'] = []\n",
        "    spotify_albums[album]['tempo'] = []\n",
        "    spotify_albums[album]['valence'] = []\n",
        "    spotify_albums[album]['popularity'] = []\n",
        "\n",
        "\n",
        "    track_count = 0\n",
        "    for track in spotify_albums[album]['uri']:\n",
        "        #pull audio features per track\n",
        "        features = sp.audio_features(track)\n",
        "\n",
        "        #Append to relevant key-value\n",
        "        spotify_albums[album]['acousticness'].append(features[0]['acousticness'])\n",
        "        spotify_albums[album]['danceability'].append(features[0]['danceability'])\n",
        "        spotify_albums[album]['energy'].append(features[0]['energy'])\n",
        "        spotify_albums[album]['instrumentalness'].append(features[0]['instrumentalness'])\n",
        "        spotify_albums[album]['liveness'].append(features[0]['liveness'])\n",
        "        spotify_albums[album]['loudness'].append(features[0]['loudness'])\n",
        "        spotify_albums[album]['speechiness'].append(features[0]['speechiness'])\n",
        "        spotify_albums[album]['tempo'].append(features[0]['tempo'])\n",
        "        spotify_albums[album]['valence'].append(features[0]['valence'])\n",
        "        #popularity is stored elsewhere\n",
        "        pop = sp.track(track)\n",
        "        spotify_albums[album]['popularity'].append(pop['popularity'])\n",
        "        track_count+=1"
      ],
      "metadata": {
        "id": "QoeBlUkFt4Mw"
      },
      "execution_count": null,
      "outputs": []
    },
    {
      "cell_type": "code",
      "source": [
        "import time\n",
        "import numpy as np\n",
        "sleep_min = 2\n",
        "sleep_max = 5\n",
        "start_time = time.time()\n",
        "request_count = 0\n",
        "for i in spotify_albums:\n",
        "    audio_features(i)\n",
        "    request_count+=1\n",
        "    if request_count % 5 == 0:\n",
        "        print(str(request_count) + \" playlists completed\")\n",
        "        time.sleep(np.random.uniform(sleep_min, sleep_max))\n",
        "        print('Loop #: {}'.format(request_count))\n",
        "        print('Elapsed Time: {} seconds'.format(time.time() - start_time))"
      ],
      "metadata": {
        "colab": {
          "base_uri": "https://localhost:8080/"
        },
        "id": "6_gFYQ44t7Cj",
        "outputId": "854d875d-9f52-4834-cd7a-a388e399b363"
      },
      "execution_count": null,
      "outputs": [
        {
          "output_type": "stream",
          "name": "stdout",
          "text": [
            "5 playlists completed\n",
            "Loop #: 5\n",
            "Elapsed Time: 18.290802478790283 seconds\n",
            "10 playlists completed\n",
            "Loop #: 10\n",
            "Elapsed Time: 34.85462689399719 seconds\n",
            "15 playlists completed\n",
            "Loop #: 15\n",
            "Elapsed Time: 53.36113953590393 seconds\n"
          ]
        }
      ]
    },
    {
      "cell_type": "code",
      "source": [
        "dic_df = {}\n",
        "dic_df['album'] = []\n",
        "dic_df['track_number'] = []\n",
        "dic_df['name'] = []\n",
        "dic_df['artist']=[]\n",
        "dic_df['id']=[]\n",
        "dic_df['uri'] = []\n",
        "dic_df['acousticness'] = []\n",
        "dic_df['danceability'] = []\n",
        "dic_df['energy'] = []\n",
        "dic_df['instrumentalness'] = []\n",
        "dic_df['liveness'] = []\n",
        "dic_df['loudness'] = []\n",
        "dic_df['speechiness'] = []\n",
        "dic_df['tempo'] = []\n",
        "dic_df['valence'] = []\n",
        "dic_df['popularity'] = []\n",
        "for album in spotify_albums:\n",
        "    for feature in spotify_albums[album]:\n",
        "        dic_df[feature].extend(spotify_albums[album][feature])\n",
        "len(dic_df['album'])"
      ],
      "metadata": {
        "colab": {
          "base_uri": "https://localhost:8080/"
        },
        "id": "8MiI7iYBuHVW",
        "outputId": "5b5e17ce-8879-440d-b6e4-060c0f47713d"
      },
      "execution_count": null,
      "outputs": [
        {
          "output_type": "execute_result",
          "data": {
            "text/plain": [
              "293"
            ]
          },
          "metadata": {},
          "execution_count": 16
        }
      ]
    },
    {
      "cell_type": "code",
      "source": [
        "import pandas as pd\n",
        "df = pd.DataFrame.from_dict(dic_df)"
      ],
      "metadata": {
        "id": "V35vSvEouQvQ"
      },
      "execution_count": null,
      "outputs": []
    },
    {
      "cell_type": "code",
      "source": [
        "df=df.drop(['album','track_number','name','artist','id','uri','popularity'],axis=1,inplace=False)"
      ],
      "metadata": {
        "id": "QISCD29UuSwa"
      },
      "execution_count": null,
      "outputs": []
    },
    {
      "cell_type": "code",
      "source": [
        "df.head()"
      ],
      "metadata": {
        "colab": {
          "base_uri": "https://localhost:8080/",
          "height": 201
        },
        "id": "4_jCgS7CuUin",
        "outputId": "ebe10e3b-1212-4a6d-c908-4da282b3d39b"
      },
      "execution_count": null,
      "outputs": [
        {
          "output_type": "execute_result",
          "data": {
            "text/plain": [
              "   acousticness  danceability  energy  instrumentalness  liveness  loudness  \\\n",
              "0       0.06720         0.762   0.736          0.000000     0.869    -4.819   \n",
              "1       0.00214         0.893   0.731          0.000034     0.246    -7.869   \n",
              "2       0.02130         0.709   0.963          0.004200     0.128    -2.906   \n",
              "3       0.00139         0.590   0.880          0.000000     0.201    -3.060   \n",
              "4       0.05210         0.868   0.780          0.000002     0.105    -3.920   \n",
              "\n",
              "   speechiness    tempo  valence  \n",
              "0       0.0636  100.101    0.566  \n",
              "1       0.0897  118.501    0.318  \n",
              "2       0.1050  130.071    0.700  \n",
              "3       0.0724  127.990    0.585  \n",
              "4       0.0654  114.056    0.606  "
            ],
            "text/html": [
              "\n",
              "  <div id=\"df-24251cd5-b43e-4e12-9d40-fe1e5f420e39\" class=\"colab-df-container\">\n",
              "    <div>\n",
              "<style scoped>\n",
              "    .dataframe tbody tr th:only-of-type {\n",
              "        vertical-align: middle;\n",
              "    }\n",
              "\n",
              "    .dataframe tbody tr th {\n",
              "        vertical-align: top;\n",
              "    }\n",
              "\n",
              "    .dataframe thead th {\n",
              "        text-align: right;\n",
              "    }\n",
              "</style>\n",
              "<table border=\"1\" class=\"dataframe\">\n",
              "  <thead>\n",
              "    <tr style=\"text-align: right;\">\n",
              "      <th></th>\n",
              "      <th>acousticness</th>\n",
              "      <th>danceability</th>\n",
              "      <th>energy</th>\n",
              "      <th>instrumentalness</th>\n",
              "      <th>liveness</th>\n",
              "      <th>loudness</th>\n",
              "      <th>speechiness</th>\n",
              "      <th>tempo</th>\n",
              "      <th>valence</th>\n",
              "    </tr>\n",
              "  </thead>\n",
              "  <tbody>\n",
              "    <tr>\n",
              "      <th>0</th>\n",
              "      <td>0.06720</td>\n",
              "      <td>0.762</td>\n",
              "      <td>0.736</td>\n",
              "      <td>0.000000</td>\n",
              "      <td>0.869</td>\n",
              "      <td>-4.819</td>\n",
              "      <td>0.0636</td>\n",
              "      <td>100.101</td>\n",
              "      <td>0.566</td>\n",
              "    </tr>\n",
              "    <tr>\n",
              "      <th>1</th>\n",
              "      <td>0.00214</td>\n",
              "      <td>0.893</td>\n",
              "      <td>0.731</td>\n",
              "      <td>0.000034</td>\n",
              "      <td>0.246</td>\n",
              "      <td>-7.869</td>\n",
              "      <td>0.0897</td>\n",
              "      <td>118.501</td>\n",
              "      <td>0.318</td>\n",
              "    </tr>\n",
              "    <tr>\n",
              "      <th>2</th>\n",
              "      <td>0.02130</td>\n",
              "      <td>0.709</td>\n",
              "      <td>0.963</td>\n",
              "      <td>0.004200</td>\n",
              "      <td>0.128</td>\n",
              "      <td>-2.906</td>\n",
              "      <td>0.1050</td>\n",
              "      <td>130.071</td>\n",
              "      <td>0.700</td>\n",
              "    </tr>\n",
              "    <tr>\n",
              "      <th>3</th>\n",
              "      <td>0.00139</td>\n",
              "      <td>0.590</td>\n",
              "      <td>0.880</td>\n",
              "      <td>0.000000</td>\n",
              "      <td>0.201</td>\n",
              "      <td>-3.060</td>\n",
              "      <td>0.0724</td>\n",
              "      <td>127.990</td>\n",
              "      <td>0.585</td>\n",
              "    </tr>\n",
              "    <tr>\n",
              "      <th>4</th>\n",
              "      <td>0.05210</td>\n",
              "      <td>0.868</td>\n",
              "      <td>0.780</td>\n",
              "      <td>0.000002</td>\n",
              "      <td>0.105</td>\n",
              "      <td>-3.920</td>\n",
              "      <td>0.0654</td>\n",
              "      <td>114.056</td>\n",
              "      <td>0.606</td>\n",
              "    </tr>\n",
              "  </tbody>\n",
              "</table>\n",
              "</div>\n",
              "    <div class=\"colab-df-buttons\">\n",
              "\n",
              "  <div class=\"colab-df-container\">\n",
              "    <button class=\"colab-df-convert\" onclick=\"convertToInteractive('df-24251cd5-b43e-4e12-9d40-fe1e5f420e39')\"\n",
              "            title=\"Convert this dataframe to an interactive table.\"\n",
              "            style=\"display:none;\">\n",
              "\n",
              "  <svg xmlns=\"http://www.w3.org/2000/svg\" height=\"24px\" viewBox=\"0 -960 960 960\">\n",
              "    <path d=\"M120-120v-720h720v720H120Zm60-500h600v-160H180v160Zm220 220h160v-160H400v160Zm0 220h160v-160H400v160ZM180-400h160v-160H180v160Zm440 0h160v-160H620v160ZM180-180h160v-160H180v160Zm440 0h160v-160H620v160Z\"/>\n",
              "  </svg>\n",
              "    </button>\n",
              "\n",
              "  <style>\n",
              "    .colab-df-container {\n",
              "      display:flex;\n",
              "      gap: 12px;\n",
              "    }\n",
              "\n",
              "    .colab-df-convert {\n",
              "      background-color: #E8F0FE;\n",
              "      border: none;\n",
              "      border-radius: 50%;\n",
              "      cursor: pointer;\n",
              "      display: none;\n",
              "      fill: #1967D2;\n",
              "      height: 32px;\n",
              "      padding: 0 0 0 0;\n",
              "      width: 32px;\n",
              "    }\n",
              "\n",
              "    .colab-df-convert:hover {\n",
              "      background-color: #E2EBFA;\n",
              "      box-shadow: 0px 1px 2px rgba(60, 64, 67, 0.3), 0px 1px 3px 1px rgba(60, 64, 67, 0.15);\n",
              "      fill: #174EA6;\n",
              "    }\n",
              "\n",
              "    .colab-df-buttons div {\n",
              "      margin-bottom: 4px;\n",
              "    }\n",
              "\n",
              "    [theme=dark] .colab-df-convert {\n",
              "      background-color: #3B4455;\n",
              "      fill: #D2E3FC;\n",
              "    }\n",
              "\n",
              "    [theme=dark] .colab-df-convert:hover {\n",
              "      background-color: #434B5C;\n",
              "      box-shadow: 0px 1px 3px 1px rgba(0, 0, 0, 0.15);\n",
              "      filter: drop-shadow(0px 1px 2px rgba(0, 0, 0, 0.3));\n",
              "      fill: #FFFFFF;\n",
              "    }\n",
              "  </style>\n",
              "\n",
              "    <script>\n",
              "      const buttonEl =\n",
              "        document.querySelector('#df-24251cd5-b43e-4e12-9d40-fe1e5f420e39 button.colab-df-convert');\n",
              "      buttonEl.style.display =\n",
              "        google.colab.kernel.accessAllowed ? 'block' : 'none';\n",
              "\n",
              "      async function convertToInteractive(key) {\n",
              "        const element = document.querySelector('#df-24251cd5-b43e-4e12-9d40-fe1e5f420e39');\n",
              "        const dataTable =\n",
              "          await google.colab.kernel.invokeFunction('convertToInteractive',\n",
              "                                                    [key], {});\n",
              "        if (!dataTable) return;\n",
              "\n",
              "        const docLinkHtml = 'Like what you see? Visit the ' +\n",
              "          '<a target=\"_blank\" href=https://colab.research.google.com/notebooks/data_table.ipynb>data table notebook</a>'\n",
              "          + ' to learn more about interactive tables.';\n",
              "        element.innerHTML = '';\n",
              "        dataTable['output_type'] = 'display_data';\n",
              "        await google.colab.output.renderOutput(dataTable, element);\n",
              "        const docLink = document.createElement('div');\n",
              "        docLink.innerHTML = docLinkHtml;\n",
              "        element.appendChild(docLink);\n",
              "      }\n",
              "    </script>\n",
              "  </div>\n",
              "\n",
              "\n",
              "<div id=\"df-695a84f9-f4e5-42da-af2d-09aadfd84c10\">\n",
              "  <button class=\"colab-df-quickchart\" onclick=\"quickchart('df-695a84f9-f4e5-42da-af2d-09aadfd84c10')\"\n",
              "            title=\"Suggest charts\"\n",
              "            style=\"display:none;\">\n",
              "\n",
              "<svg xmlns=\"http://www.w3.org/2000/svg\" height=\"24px\"viewBox=\"0 0 24 24\"\n",
              "     width=\"24px\">\n",
              "    <g>\n",
              "        <path d=\"M19 3H5c-1.1 0-2 .9-2 2v14c0 1.1.9 2 2 2h14c1.1 0 2-.9 2-2V5c0-1.1-.9-2-2-2zM9 17H7v-7h2v7zm4 0h-2V7h2v10zm4 0h-2v-4h2v4z\"/>\n",
              "    </g>\n",
              "</svg>\n",
              "  </button>\n",
              "\n",
              "<style>\n",
              "  .colab-df-quickchart {\n",
              "      --bg-color: #E8F0FE;\n",
              "      --fill-color: #1967D2;\n",
              "      --hover-bg-color: #E2EBFA;\n",
              "      --hover-fill-color: #174EA6;\n",
              "      --disabled-fill-color: #AAA;\n",
              "      --disabled-bg-color: #DDD;\n",
              "  }\n",
              "\n",
              "  [theme=dark] .colab-df-quickchart {\n",
              "      --bg-color: #3B4455;\n",
              "      --fill-color: #D2E3FC;\n",
              "      --hover-bg-color: #434B5C;\n",
              "      --hover-fill-color: #FFFFFF;\n",
              "      --disabled-bg-color: #3B4455;\n",
              "      --disabled-fill-color: #666;\n",
              "  }\n",
              "\n",
              "  .colab-df-quickchart {\n",
              "    background-color: var(--bg-color);\n",
              "    border: none;\n",
              "    border-radius: 50%;\n",
              "    cursor: pointer;\n",
              "    display: none;\n",
              "    fill: var(--fill-color);\n",
              "    height: 32px;\n",
              "    padding: 0;\n",
              "    width: 32px;\n",
              "  }\n",
              "\n",
              "  .colab-df-quickchart:hover {\n",
              "    background-color: var(--hover-bg-color);\n",
              "    box-shadow: 0 1px 2px rgba(60, 64, 67, 0.3), 0 1px 3px 1px rgba(60, 64, 67, 0.15);\n",
              "    fill: var(--button-hover-fill-color);\n",
              "  }\n",
              "\n",
              "  .colab-df-quickchart-complete:disabled,\n",
              "  .colab-df-quickchart-complete:disabled:hover {\n",
              "    background-color: var(--disabled-bg-color);\n",
              "    fill: var(--disabled-fill-color);\n",
              "    box-shadow: none;\n",
              "  }\n",
              "\n",
              "  .colab-df-spinner {\n",
              "    border: 2px solid var(--fill-color);\n",
              "    border-color: transparent;\n",
              "    border-bottom-color: var(--fill-color);\n",
              "    animation:\n",
              "      spin 1s steps(1) infinite;\n",
              "  }\n",
              "\n",
              "  @keyframes spin {\n",
              "    0% {\n",
              "      border-color: transparent;\n",
              "      border-bottom-color: var(--fill-color);\n",
              "      border-left-color: var(--fill-color);\n",
              "    }\n",
              "    20% {\n",
              "      border-color: transparent;\n",
              "      border-left-color: var(--fill-color);\n",
              "      border-top-color: var(--fill-color);\n",
              "    }\n",
              "    30% {\n",
              "      border-color: transparent;\n",
              "      border-left-color: var(--fill-color);\n",
              "      border-top-color: var(--fill-color);\n",
              "      border-right-color: var(--fill-color);\n",
              "    }\n",
              "    40% {\n",
              "      border-color: transparent;\n",
              "      border-right-color: var(--fill-color);\n",
              "      border-top-color: var(--fill-color);\n",
              "    }\n",
              "    60% {\n",
              "      border-color: transparent;\n",
              "      border-right-color: var(--fill-color);\n",
              "    }\n",
              "    80% {\n",
              "      border-color: transparent;\n",
              "      border-right-color: var(--fill-color);\n",
              "      border-bottom-color: var(--fill-color);\n",
              "    }\n",
              "    90% {\n",
              "      border-color: transparent;\n",
              "      border-bottom-color: var(--fill-color);\n",
              "    }\n",
              "  }\n",
              "</style>\n",
              "\n",
              "  <script>\n",
              "    async function quickchart(key) {\n",
              "      const quickchartButtonEl =\n",
              "        document.querySelector('#' + key + ' button');\n",
              "      quickchartButtonEl.disabled = true;  // To prevent multiple clicks.\n",
              "      quickchartButtonEl.classList.add('colab-df-spinner');\n",
              "      try {\n",
              "        const charts = await google.colab.kernel.invokeFunction(\n",
              "            'suggestCharts', [key], {});\n",
              "      } catch (error) {\n",
              "        console.error('Error during call to suggestCharts:', error);\n",
              "      }\n",
              "      quickchartButtonEl.classList.remove('colab-df-spinner');\n",
              "      quickchartButtonEl.classList.add('colab-df-quickchart-complete');\n",
              "    }\n",
              "    (() => {\n",
              "      let quickchartButtonEl =\n",
              "        document.querySelector('#df-695a84f9-f4e5-42da-af2d-09aadfd84c10 button');\n",
              "      quickchartButtonEl.style.display =\n",
              "        google.colab.kernel.accessAllowed ? 'block' : 'none';\n",
              "    })();\n",
              "  </script>\n",
              "</div>\n",
              "    </div>\n",
              "  </div>\n"
            ]
          },
          "metadata": {},
          "execution_count": 19
        }
      ]
    },
    {
      "cell_type": "code",
      "source": [
        "scaler = StandardScaler()\n",
        "X = scaler.fit_transform(df)"
      ],
      "metadata": {
        "id": "1UwWlPiTuWej"
      },
      "execution_count": null,
      "outputs": []
    },
    {
      "cell_type": "code",
      "source": [
        "pd.DataFrame(X).head()"
      ],
      "metadata": {
        "colab": {
          "base_uri": "https://localhost:8080/",
          "height": 201
        },
        "id": "l77brFohuYnm",
        "outputId": "b7450b7d-4082-4de6-a9e4-bead18676676"
      },
      "execution_count": null,
      "outputs": [
        {
          "output_type": "execute_result",
          "data": {
            "text/plain": [
              "          0         1         2         3         4         5         6  \\\n",
              "0 -0.349780  0.240949  0.095993 -0.249445  3.812265  0.475925 -0.720011   \n",
              "1 -0.648994  1.073311  0.071311 -0.249261  0.170447 -0.381703 -0.563661   \n",
              "2 -0.560876 -0.095807  1.216541 -0.226825 -0.519336  1.013841 -0.472007   \n",
              "3 -0.652443 -0.851922  0.806825 -0.249445 -0.092606  0.970538 -0.667296   \n",
              "4 -0.419225  0.914463  0.313191 -0.249437 -0.653785  0.728715 -0.709229   \n",
              "\n",
              "          7         8  \n",
              "0 -0.942670 -0.194457  \n",
              "1 -0.051208 -1.277872  \n",
              "2  0.509347  0.390937  \n",
              "3  0.408525 -0.111453  \n",
              "4 -0.266564 -0.019712  "
            ],
            "text/html": [
              "\n",
              "  <div id=\"df-8a6c2bc0-ab09-4604-86ae-86169330af73\" class=\"colab-df-container\">\n",
              "    <div>\n",
              "<style scoped>\n",
              "    .dataframe tbody tr th:only-of-type {\n",
              "        vertical-align: middle;\n",
              "    }\n",
              "\n",
              "    .dataframe tbody tr th {\n",
              "        vertical-align: top;\n",
              "    }\n",
              "\n",
              "    .dataframe thead th {\n",
              "        text-align: right;\n",
              "    }\n",
              "</style>\n",
              "<table border=\"1\" class=\"dataframe\">\n",
              "  <thead>\n",
              "    <tr style=\"text-align: right;\">\n",
              "      <th></th>\n",
              "      <th>0</th>\n",
              "      <th>1</th>\n",
              "      <th>2</th>\n",
              "      <th>3</th>\n",
              "      <th>4</th>\n",
              "      <th>5</th>\n",
              "      <th>6</th>\n",
              "      <th>7</th>\n",
              "      <th>8</th>\n",
              "    </tr>\n",
              "  </thead>\n",
              "  <tbody>\n",
              "    <tr>\n",
              "      <th>0</th>\n",
              "      <td>-0.349780</td>\n",
              "      <td>0.240949</td>\n",
              "      <td>0.095993</td>\n",
              "      <td>-0.249445</td>\n",
              "      <td>3.812265</td>\n",
              "      <td>0.475925</td>\n",
              "      <td>-0.720011</td>\n",
              "      <td>-0.942670</td>\n",
              "      <td>-0.194457</td>\n",
              "    </tr>\n",
              "    <tr>\n",
              "      <th>1</th>\n",
              "      <td>-0.648994</td>\n",
              "      <td>1.073311</td>\n",
              "      <td>0.071311</td>\n",
              "      <td>-0.249261</td>\n",
              "      <td>0.170447</td>\n",
              "      <td>-0.381703</td>\n",
              "      <td>-0.563661</td>\n",
              "      <td>-0.051208</td>\n",
              "      <td>-1.277872</td>\n",
              "    </tr>\n",
              "    <tr>\n",
              "      <th>2</th>\n",
              "      <td>-0.560876</td>\n",
              "      <td>-0.095807</td>\n",
              "      <td>1.216541</td>\n",
              "      <td>-0.226825</td>\n",
              "      <td>-0.519336</td>\n",
              "      <td>1.013841</td>\n",
              "      <td>-0.472007</td>\n",
              "      <td>0.509347</td>\n",
              "      <td>0.390937</td>\n",
              "    </tr>\n",
              "    <tr>\n",
              "      <th>3</th>\n",
              "      <td>-0.652443</td>\n",
              "      <td>-0.851922</td>\n",
              "      <td>0.806825</td>\n",
              "      <td>-0.249445</td>\n",
              "      <td>-0.092606</td>\n",
              "      <td>0.970538</td>\n",
              "      <td>-0.667296</td>\n",
              "      <td>0.408525</td>\n",
              "      <td>-0.111453</td>\n",
              "    </tr>\n",
              "    <tr>\n",
              "      <th>4</th>\n",
              "      <td>-0.419225</td>\n",
              "      <td>0.914463</td>\n",
              "      <td>0.313191</td>\n",
              "      <td>-0.249437</td>\n",
              "      <td>-0.653785</td>\n",
              "      <td>0.728715</td>\n",
              "      <td>-0.709229</td>\n",
              "      <td>-0.266564</td>\n",
              "      <td>-0.019712</td>\n",
              "    </tr>\n",
              "  </tbody>\n",
              "</table>\n",
              "</div>\n",
              "    <div class=\"colab-df-buttons\">\n",
              "\n",
              "  <div class=\"colab-df-container\">\n",
              "    <button class=\"colab-df-convert\" onclick=\"convertToInteractive('df-8a6c2bc0-ab09-4604-86ae-86169330af73')\"\n",
              "            title=\"Convert this dataframe to an interactive table.\"\n",
              "            style=\"display:none;\">\n",
              "\n",
              "  <svg xmlns=\"http://www.w3.org/2000/svg\" height=\"24px\" viewBox=\"0 -960 960 960\">\n",
              "    <path d=\"M120-120v-720h720v720H120Zm60-500h600v-160H180v160Zm220 220h160v-160H400v160Zm0 220h160v-160H400v160ZM180-400h160v-160H180v160Zm440 0h160v-160H620v160ZM180-180h160v-160H180v160Zm440 0h160v-160H620v160Z\"/>\n",
              "  </svg>\n",
              "    </button>\n",
              "\n",
              "  <style>\n",
              "    .colab-df-container {\n",
              "      display:flex;\n",
              "      gap: 12px;\n",
              "    }\n",
              "\n",
              "    .colab-df-convert {\n",
              "      background-color: #E8F0FE;\n",
              "      border: none;\n",
              "      border-radius: 50%;\n",
              "      cursor: pointer;\n",
              "      display: none;\n",
              "      fill: #1967D2;\n",
              "      height: 32px;\n",
              "      padding: 0 0 0 0;\n",
              "      width: 32px;\n",
              "    }\n",
              "\n",
              "    .colab-df-convert:hover {\n",
              "      background-color: #E2EBFA;\n",
              "      box-shadow: 0px 1px 2px rgba(60, 64, 67, 0.3), 0px 1px 3px 1px rgba(60, 64, 67, 0.15);\n",
              "      fill: #174EA6;\n",
              "    }\n",
              "\n",
              "    .colab-df-buttons div {\n",
              "      margin-bottom: 4px;\n",
              "    }\n",
              "\n",
              "    [theme=dark] .colab-df-convert {\n",
              "      background-color: #3B4455;\n",
              "      fill: #D2E3FC;\n",
              "    }\n",
              "\n",
              "    [theme=dark] .colab-df-convert:hover {\n",
              "      background-color: #434B5C;\n",
              "      box-shadow: 0px 1px 3px 1px rgba(0, 0, 0, 0.15);\n",
              "      filter: drop-shadow(0px 1px 2px rgba(0, 0, 0, 0.3));\n",
              "      fill: #FFFFFF;\n",
              "    }\n",
              "  </style>\n",
              "\n",
              "    <script>\n",
              "      const buttonEl =\n",
              "        document.querySelector('#df-8a6c2bc0-ab09-4604-86ae-86169330af73 button.colab-df-convert');\n",
              "      buttonEl.style.display =\n",
              "        google.colab.kernel.accessAllowed ? 'block' : 'none';\n",
              "\n",
              "      async function convertToInteractive(key) {\n",
              "        const element = document.querySelector('#df-8a6c2bc0-ab09-4604-86ae-86169330af73');\n",
              "        const dataTable =\n",
              "          await google.colab.kernel.invokeFunction('convertToInteractive',\n",
              "                                                    [key], {});\n",
              "        if (!dataTable) return;\n",
              "\n",
              "        const docLinkHtml = 'Like what you see? Visit the ' +\n",
              "          '<a target=\"_blank\" href=https://colab.research.google.com/notebooks/data_table.ipynb>data table notebook</a>'\n",
              "          + ' to learn more about interactive tables.';\n",
              "        element.innerHTML = '';\n",
              "        dataTable['output_type'] = 'display_data';\n",
              "        await google.colab.output.renderOutput(dataTable, element);\n",
              "        const docLink = document.createElement('div');\n",
              "        docLink.innerHTML = docLinkHtml;\n",
              "        element.appendChild(docLink);\n",
              "      }\n",
              "    </script>\n",
              "  </div>\n",
              "\n",
              "\n",
              "<div id=\"df-8a02c56e-5294-4d44-8e53-7e3e86a10d71\">\n",
              "  <button class=\"colab-df-quickchart\" onclick=\"quickchart('df-8a02c56e-5294-4d44-8e53-7e3e86a10d71')\"\n",
              "            title=\"Suggest charts\"\n",
              "            style=\"display:none;\">\n",
              "\n",
              "<svg xmlns=\"http://www.w3.org/2000/svg\" height=\"24px\"viewBox=\"0 0 24 24\"\n",
              "     width=\"24px\">\n",
              "    <g>\n",
              "        <path d=\"M19 3H5c-1.1 0-2 .9-2 2v14c0 1.1.9 2 2 2h14c1.1 0 2-.9 2-2V5c0-1.1-.9-2-2-2zM9 17H7v-7h2v7zm4 0h-2V7h2v10zm4 0h-2v-4h2v4z\"/>\n",
              "    </g>\n",
              "</svg>\n",
              "  </button>\n",
              "\n",
              "<style>\n",
              "  .colab-df-quickchart {\n",
              "      --bg-color: #E8F0FE;\n",
              "      --fill-color: #1967D2;\n",
              "      --hover-bg-color: #E2EBFA;\n",
              "      --hover-fill-color: #174EA6;\n",
              "      --disabled-fill-color: #AAA;\n",
              "      --disabled-bg-color: #DDD;\n",
              "  }\n",
              "\n",
              "  [theme=dark] .colab-df-quickchart {\n",
              "      --bg-color: #3B4455;\n",
              "      --fill-color: #D2E3FC;\n",
              "      --hover-bg-color: #434B5C;\n",
              "      --hover-fill-color: #FFFFFF;\n",
              "      --disabled-bg-color: #3B4455;\n",
              "      --disabled-fill-color: #666;\n",
              "  }\n",
              "\n",
              "  .colab-df-quickchart {\n",
              "    background-color: var(--bg-color);\n",
              "    border: none;\n",
              "    border-radius: 50%;\n",
              "    cursor: pointer;\n",
              "    display: none;\n",
              "    fill: var(--fill-color);\n",
              "    height: 32px;\n",
              "    padding: 0;\n",
              "    width: 32px;\n",
              "  }\n",
              "\n",
              "  .colab-df-quickchart:hover {\n",
              "    background-color: var(--hover-bg-color);\n",
              "    box-shadow: 0 1px 2px rgba(60, 64, 67, 0.3), 0 1px 3px 1px rgba(60, 64, 67, 0.15);\n",
              "    fill: var(--button-hover-fill-color);\n",
              "  }\n",
              "\n",
              "  .colab-df-quickchart-complete:disabled,\n",
              "  .colab-df-quickchart-complete:disabled:hover {\n",
              "    background-color: var(--disabled-bg-color);\n",
              "    fill: var(--disabled-fill-color);\n",
              "    box-shadow: none;\n",
              "  }\n",
              "\n",
              "  .colab-df-spinner {\n",
              "    border: 2px solid var(--fill-color);\n",
              "    border-color: transparent;\n",
              "    border-bottom-color: var(--fill-color);\n",
              "    animation:\n",
              "      spin 1s steps(1) infinite;\n",
              "  }\n",
              "\n",
              "  @keyframes spin {\n",
              "    0% {\n",
              "      border-color: transparent;\n",
              "      border-bottom-color: var(--fill-color);\n",
              "      border-left-color: var(--fill-color);\n",
              "    }\n",
              "    20% {\n",
              "      border-color: transparent;\n",
              "      border-left-color: var(--fill-color);\n",
              "      border-top-color: var(--fill-color);\n",
              "    }\n",
              "    30% {\n",
              "      border-color: transparent;\n",
              "      border-left-color: var(--fill-color);\n",
              "      border-top-color: var(--fill-color);\n",
              "      border-right-color: var(--fill-color);\n",
              "    }\n",
              "    40% {\n",
              "      border-color: transparent;\n",
              "      border-right-color: var(--fill-color);\n",
              "      border-top-color: var(--fill-color);\n",
              "    }\n",
              "    60% {\n",
              "      border-color: transparent;\n",
              "      border-right-color: var(--fill-color);\n",
              "    }\n",
              "    80% {\n",
              "      border-color: transparent;\n",
              "      border-right-color: var(--fill-color);\n",
              "      border-bottom-color: var(--fill-color);\n",
              "    }\n",
              "    90% {\n",
              "      border-color: transparent;\n",
              "      border-bottom-color: var(--fill-color);\n",
              "    }\n",
              "  }\n",
              "</style>\n",
              "\n",
              "  <script>\n",
              "    async function quickchart(key) {\n",
              "      const quickchartButtonEl =\n",
              "        document.querySelector('#' + key + ' button');\n",
              "      quickchartButtonEl.disabled = true;  // To prevent multiple clicks.\n",
              "      quickchartButtonEl.classList.add('colab-df-spinner');\n",
              "      try {\n",
              "        const charts = await google.colab.kernel.invokeFunction(\n",
              "            'suggestCharts', [key], {});\n",
              "      } catch (error) {\n",
              "        console.error('Error during call to suggestCharts:', error);\n",
              "      }\n",
              "      quickchartButtonEl.classList.remove('colab-df-spinner');\n",
              "      quickchartButtonEl.classList.add('colab-df-quickchart-complete');\n",
              "    }\n",
              "    (() => {\n",
              "      let quickchartButtonEl =\n",
              "        document.querySelector('#df-8a02c56e-5294-4d44-8e53-7e3e86a10d71 button');\n",
              "      quickchartButtonEl.style.display =\n",
              "        google.colab.kernel.accessAllowed ? 'block' : 'none';\n",
              "    })();\n",
              "  </script>\n",
              "</div>\n",
              "    </div>\n",
              "  </div>\n"
            ]
          },
          "metadata": {},
          "execution_count": 21
        }
      ]
    },
    {
      "cell_type": "code",
      "source": [
        "pca = PCA()"
      ],
      "metadata": {
        "id": "guTifnHQubdM"
      },
      "execution_count": null,
      "outputs": []
    },
    {
      "cell_type": "code",
      "source": [
        "X_r = pca.fit(X).transform(X)\n",
        "print('\\nEigenvalues \\n%s' %pd.DataFrame(pca.explained_variance_).T)\n",
        "print('Eigenvectors \\n%s' %pd.DataFrame(pca.components_).T.head())"
      ],
      "metadata": {
        "colab": {
          "base_uri": "https://localhost:8080/"
        },
        "id": "Sjjwi9vgudRd",
        "outputId": "f45aabdf-58ce-421c-97c2-dbacf175fc3d"
      },
      "execution_count": null,
      "outputs": [
        {
          "output_type": "stream",
          "name": "stdout",
          "text": [
            "\n",
            "Eigenvalues \n",
            "          0         1         2         3         4         5         6  \\\n",
            "0  3.784944  1.547603  1.021905  0.933951  0.569889  0.527205  0.313835   \n",
            "\n",
            "          7         8  \n",
            "0  0.194566  0.136925  \n",
            "Eigenvectors \n",
            "          0         1         2         3         4         5         6  \\\n",
            "0  0.403136  0.272639  0.036968  0.073743 -0.347091 -0.177366 -0.732970   \n",
            "1 -0.362520  0.329556 -0.061077  0.091059  0.519272 -0.445816 -0.348052   \n",
            "2 -0.431719 -0.247056 -0.035635 -0.093218 -0.362172  0.225411 -0.295268   \n",
            "3  0.442664 -0.236387 -0.020783 -0.032298 -0.243562 -0.137673  0.014706   \n",
            "4 -0.074501  0.015962  0.892991 -0.395407 -0.039313 -0.194105  0.032900   \n",
            "\n",
            "          7         8  \n",
            "0 -0.254937 -0.046655  \n",
            "1  0.377395  0.126446  \n",
            "2  0.081122  0.683286  \n",
            "3  0.817310  0.014367  \n",
            "4  0.006906  0.007921  \n"
          ]
        }
      ]
    },
    {
      "cell_type": "code",
      "source": [
        "!pip install mplcyberpunk\n"
      ],
      "metadata": {
        "colab": {
          "base_uri": "https://localhost:8080/"
        },
        "id": "LFCdaNXTuxXN",
        "outputId": "3de756d9-e088-4f6c-ec3c-a01cb3ff0a3a"
      },
      "execution_count": null,
      "outputs": [
        {
          "output_type": "stream",
          "name": "stdout",
          "text": [
            "Collecting mplcyberpunk\n",
            "  Downloading mplcyberpunk-0.7.0-py3-none-any.whl (6.3 kB)\n",
            "Requirement already satisfied: matplotlib in /usr/local/lib/python3.10/dist-packages (from mplcyberpunk) (3.7.1)\n",
            "Requirement already satisfied: contourpy>=1.0.1 in /usr/local/lib/python3.10/dist-packages (from matplotlib->mplcyberpunk) (1.2.0)\n",
            "Requirement already satisfied: cycler>=0.10 in /usr/local/lib/python3.10/dist-packages (from matplotlib->mplcyberpunk) (0.12.1)\n",
            "Requirement already satisfied: fonttools>=4.22.0 in /usr/local/lib/python3.10/dist-packages (from matplotlib->mplcyberpunk) (4.44.3)\n",
            "Requirement already satisfied: kiwisolver>=1.0.1 in /usr/local/lib/python3.10/dist-packages (from matplotlib->mplcyberpunk) (1.4.5)\n",
            "Requirement already satisfied: numpy>=1.20 in /usr/local/lib/python3.10/dist-packages (from matplotlib->mplcyberpunk) (1.23.5)\n",
            "Requirement already satisfied: packaging>=20.0 in /usr/local/lib/python3.10/dist-packages (from matplotlib->mplcyberpunk) (23.2)\n",
            "Requirement already satisfied: pillow>=6.2.0 in /usr/local/lib/python3.10/dist-packages (from matplotlib->mplcyberpunk) (9.4.0)\n",
            "Requirement already satisfied: pyparsing>=2.3.1 in /usr/local/lib/python3.10/dist-packages (from matplotlib->mplcyberpunk) (3.1.1)\n",
            "Requirement already satisfied: python-dateutil>=2.7 in /usr/local/lib/python3.10/dist-packages (from matplotlib->mplcyberpunk) (2.8.2)\n",
            "Requirement already satisfied: six>=1.5 in /usr/local/lib/python3.10/dist-packages (from python-dateutil>=2.7->matplotlib->mplcyberpunk) (1.16.0)\n",
            "Installing collected packages: mplcyberpunk\n",
            "Successfully installed mplcyberpunk-0.7.0\n"
          ]
        }
      ]
    },
    {
      "cell_type": "code",
      "source": [
        "import matplotlib.pyplot as plt\n",
        "import mplcyberpunk\n",
        "plt.figure(figsize=(15,10))\n",
        "plt.style.use(\"cyberpunk\")\n",
        "plt.scatter(x=[i+1 for i in range(len(pca.explained_variance_ratio_))],y=pca.explained_variance_ratio_,s=50, alpha=0.75,c='pink',edgecolor='blue')\n",
        "plt.grid(True)\n",
        "plt.title(\"Explained variance ratio of the fitted principal component vector\\n\",fontsize=12)\n",
        "plt.xlabel(\"Principal components\",fontsize=10)\n",
        "plt.xticks([i+1 for i in range(len(pca.explained_variance_ratio_))],fontsize=10)\n",
        "plt.yticks(fontsize=15)\n",
        "plt.ylabel(\"Explained variance ratio\",fontsize=10)\n",
        "plt.show()"
      ],
      "metadata": {
        "colab": {
          "base_uri": "https://localhost:8080/",
          "height": 887
        },
        "id": "wKk4UCgkujUb",
        "outputId": "7af693a2-22fc-4337-e0e9-836c28bb0df8"
      },
      "execution_count": null,
      "outputs": [
        {
          "output_type": "display_data",
          "data": {
            "text/plain": [
              "<Figure size 1500x1000 with 1 Axes>"
            ],
            "image/png": "[encoded data removed]"
          },
          "metadata": {}
        }
      ]
    },
    {
      "cell_type": "code",
      "source": [
        "exp_var_ratio=pca.explained_variance_ratio_\n",
        "exp_var_ratio"
      ],
      "metadata": {
        "colab": {
          "base_uri": "https://localhost:8080/"
        },
        "id": "onUE97ZvujWQ",
        "outputId": "fe7dead0-cfeb-40b3-c454-da1b08f14207"
      },
      "execution_count": null,
      "outputs": [
        {
          "output_type": "execute_result",
          "data": {
            "text/plain": [
              "array([0.41911396, 0.17136899, 0.11315745, 0.10341812, 0.0631049 ,\n",
              "       0.05837842, 0.03475151, 0.0215447 , 0.01516196])"
            ]
          },
          "metadata": {},
          "execution_count": 28
        }
      ]
    },
    {
      "cell_type": "code",
      "source": [
        "cum_explaiend_var = exp_var_ratio.cumsum()\n",
        "cum_explaiend_var"
      ],
      "metadata": {
        "colab": {
          "base_uri": "https://localhost:8080/"
        },
        "id": "bPh9JSNEu4vD",
        "outputId": "8936f0d7-8085-42a5-de83-aeebd92f92ed"
      },
      "execution_count": null,
      "outputs": [
        {
          "output_type": "execute_result",
          "data": {
            "text/plain": [
              "array([0.41911396, 0.59048295, 0.7036404 , 0.80705852, 0.87016342,\n",
              "       0.92854184, 0.96329334, 0.98483804, 1.        ])"
            ]
          },
          "metadata": {},
          "execution_count": 29
        }
      ]
    },
    {
      "cell_type": "code",
      "source": [
        "plt.figure(figsize=(15,7))\n",
        "plt.bar(x=['PrComp'+str(i) for i in range(1,10)],height=cum_explaiend_var,width=0.6)\n",
        "plt.xticks(fontsize=14)\n",
        "plt.hlines(y=0.9,xmin='PrComp1',xmax='PrComp8',linestyles='dashed',lw=3)\n",
        "plt.text(x='PrComp1',y=0.82,s=\"80% variance explained\",fontsize=15)\n",
        "plt.show()"
      ],
      "metadata": {
        "colab": {
          "base_uri": "https://localhost:8080/",
          "height": 601
        },
        "id": "zYrcpHgyu8yJ",
        "outputId": "1311e023-5fa0-478a-af31-14abf8b2dc78"
      },
      "execution_count": null,
      "outputs": [
        {
          "output_type": "display_data",
          "data": {
            "text/plain": [
              "<Figure size 1500x700 with 1 Axes>"
            ],
            "image/png": "[encoded data removed]"
          },
          "metadata": {}
        }
      ]
    }
  ]
}